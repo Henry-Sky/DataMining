{
 "cells": [
  {
   "cell_type": "markdown",
   "metadata": {},
   "source": [
    "## 集中趋势分析\n",
    "\n",
    "**集中趋势**\n",
    "\n",
    "1. 算术平均数(Mean):  \n",
    "2. 中位数(Median):  \n",
    "3. 众数(Mode)\n",
    "4. K百分位数(Percentile)\n",
    "5. 四分位数(Quartiles)"
   ]
  },
  {
   "cell_type": "code",
   "execution_count": 5,
   "metadata": {},
   "outputs": [],
   "source": [
    "import numpy as np\n",
    "\n",
    "# 算数平均数\n",
    "def data_mean(data):\n",
    "    return np.mean(data)\n",
    "\n",
    "# 中位数\n",
    "def data_median(data):\n",
    "    return np.median(data)\n",
    "\n",
    "# 众数\n",
    "def data_mode(data):\n",
    "    index = np.argsort(np.bincount(data))\n",
    "    return data[index[-1]]\n"
   ]
  },
  {
   "cell_type": "code",
   "execution_count": 6,
   "metadata": {},
   "outputs": [],
   "source": [
    "# 计算百分位\n",
    "def count_percentile(data, k, index = False):\n",
    "    assert(k > 0.0 and k <=1.0)\n",
    "    data = sorted(data)\n",
    "    n = len(data)\n",
    "    k_index = 1 + (n - 1) * k\n",
    "    res =  (data[int(k_index - 1)] \n",
    "            + (data[int(k_index - 1) + 1] - data[int(k_index - 1)]) * (k_index - int(k_index)))\n",
    "    if index:\n",
    "        return k_index, res\n",
    "    else:\n",
    "        return res\n",
    "\n",
    "# 计算百分位(numpy)\n",
    "import numpy as np\n",
    "def np_percentitle(data, k, index = False):\n",
    "    assert(type(data) is np.ndarray)\n",
    "    assert(k > 0.0 and k <=1.0)\n",
    "    k *= 100\n",
    "    res = np.percentile(data, k)\n",
    "    if index:\n",
    "        k_index = 1 + (len(data) - 1) * k\n",
    "        return k_index, res\n",
    "    else:\n",
    "        return res"
   ]
  },
  {
   "cell_type": "code",
   "execution_count": 7,
   "metadata": {},
   "outputs": [
    {
     "name": "stdout",
     "output_type": "stream",
     "text": [
      "(2.0, 3.0)\n",
      "3.0\n"
     ]
    }
   ],
   "source": [
    "# 百分位测试\n",
    "data = [7,1,3,4,5]\n",
    "print(count_percentile(data, 0.25, 1))\n",
    "data = np.array(data)\n",
    "print(np_percentitle(data, 0.25))"
   ]
  },
  {
   "cell_type": "markdown",
   "metadata": {},
   "source": [
    "## 离中趋势分析\n",
    "\n",
    "- 极差(Range)\n",
    "- 方差和标准差\n",
    "- 离散系数\n",
    "- 四分位数极差\n",
    "- 平均绝对离差"
   ]
  },
  {
   "cell_type": "markdown",
   "metadata": {},
   "source": [
    "标准差 = 算术平方根(方差)  \n",
    "离散系数 = 标准差 / 均值\n"
   ]
  },
  {
   "cell_type": "code",
   "execution_count": 8,
   "metadata": {},
   "outputs": [],
   "source": [
    "import numpy as np\n",
    "import math\n",
    "\n",
    "# 极差\n",
    "def data_range(data):\n",
    "    sorted_data = sorted(data)\n",
    "    return sorted_data[-1] - sorted_data[0]\n",
    "\n",
    "# 方差\n",
    "def deviation(data, all = True):\n",
    "    avg_val = np.mean(data)\n",
    "    sum = 0\n",
    "    for i in data:\n",
    "        sum += (i - avg_val) * (i - avg_val)\n",
    "    # 总体方差\n",
    "    if all:\n",
    "        return (sum * 1.0)/(len(data) * 1.0)\n",
    "    # 样本方差\n",
    "    else:\n",
    "        return (sum * 1.0)/(len(data) - 1.0)\n",
    "    \n",
    "\n",
    "# 标准差\n",
    "def standard_deviation(data):\n",
    "    return math.sqrt(deviation(data))\n",
    "\n",
    "# 离散系数\n",
    "def coefficient(data):\n",
    "    return standard_deviation(data) / data_mean(data)\n",
    "    "
   ]
  },
  {
   "cell_type": "code",
   "execution_count": 9,
   "metadata": {},
   "outputs": [
    {
     "name": "stdout",
     "output_type": "stream",
     "text": [
      "1.1299696757231945\n"
     ]
    }
   ],
   "source": [
    "# 离散系数测试\n",
    "data = [12,13,4,231,324,423,12]\n",
    "a = coefficient(data)\n",
    "print(a)"
   ]
  }
 ],
 "metadata": {
  "kernelspec": {
   "display_name": "bigdata",
   "language": "python",
   "name": "python3"
  },
  "language_info": {
   "codemirror_mode": {
    "name": "ipython",
    "version": 3
   },
   "file_extension": ".py",
   "mimetype": "text/x-python",
   "name": "python",
   "nbconvert_exporter": "python",
   "pygments_lexer": "ipython3",
   "version": "3.10.13"
  }
 },
 "nbformat": 4,
 "nbformat_minor": 2
}
