{
 "cells": [
  {
   "cell_type": "code",
   "execution_count": null,
   "metadata": {},
   "outputs": [],
   "source": [
    "import numpy as np\n",
    "import matplotlib\n",
    "import matplotlib.pyplot as plt\n",
    "\n",
    "# 随机数种子\n",
    "np.random.seed(1)\n",
    "x = np.random.randint(0,100,50)\n",
    "print('随机生成x,类型:',type(x),',元素数量:',x.size)\n",
    "\n",
    "y1 = 0.8 * x + np.random.normal(0, 100, 50)\n",
    "y2 = 100 - 0.7 * x + np.random.normal(0, 15, 50)\n",
    "y3 = np.random.randint(0, 100, 50)\n",
    "\n",
    "r1 = np.corrcoef(x, y1)\n",
    "r2 = np.corrcoef(x, y2)\n",
    "r3 = np.corrcoef(x, y3)\n",
    "fig = plt.figure()\n",
    "\n",
    "# subplot(行，列，当前选中)\n",
    "plt.subplot(1,3,1)\n",
    "plt.scatter(x, y1,color='k')\n",
    "plt.subplot(1,3,2)\n",
    "plt.scatter(x, y2,color='k')\n",
    "plt.subplot(1,3,3)\n",
    "plt.scatter(x, y3,color='k')\n",
    "# print(r1)\n",
    "# print(r2)\n",
    "# print(r3)\n",
    "plt.show"
   ]
  },
  {
   "cell_type": "code",
   "execution_count": null,
   "metadata": {},
   "outputs": [],
   "source": [
    "# 卡方检验\n",
    "# 110\t130\t70\t310\n",
    "# 370\t210\t110\t690\n",
    "# 480\t340\t180\t1000\n",
    "\n",
    "import numpy as np\n",
    "from scipy.stats import chi2_contingency\n",
    "\n",
    "observed = np.array([[110,130,70,310],[370,210,110,690]])\n",
    "chi2, p_value, dof, expected = chi2_contingency(observed)\n",
    "\n",
    "print(chi2, p_value, dof,'\\n', expected)"
   ]
  }
 ],
 "metadata": {
  "kernelspec": {
   "display_name": "bigdata",
   "language": "python",
   "name": "python3"
  },
  "language_info": {
   "codemirror_mode": {
    "name": "ipython",
    "version": 3
   },
   "file_extension": ".py",
   "mimetype": "text/x-python",
   "name": "python",
   "nbconvert_exporter": "python",
   "pygments_lexer": "ipython3",
   "version": "3.8.18"
  },
  "orig_nbformat": 4
 },
 "nbformat": 4,
 "nbformat_minor": 2
}
