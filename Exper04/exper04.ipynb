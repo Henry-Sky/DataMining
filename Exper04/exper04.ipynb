{
 "cells": [
  {
   "cell_type": "markdown",
   "metadata": {},
   "source": [
    "**数据缺失填充**"
   ]
  },
  {
   "cell_type": "code",
   "execution_count": 3,
   "metadata": {},
   "outputs": [],
   "source": [
    "import numpy as np\n",
    "\n",
    "# 加载数据\n",
    "filename = \"../Data/class04/Wine.csv\"\n",
    "# \"rb\" 以二进制文件方式读取数据\n",
    "data = np.loadtxt(open(filename, \"rb\"), delimiter= \",\", skiprows= 0)\n",
    "# 将data的前两个维度的数据转float\n",
    "data = data[:,:].astype(float)"
   ]
  },
  {
   "cell_type": "code",
   "execution_count": 4,
   "metadata": {},
   "outputs": [],
   "source": [
    "# 使数据缺失\n",
    "\n",
    "# binomial n:一次实验样本数 p:事件概率 size:返回形式\n",
    "masking_array = np.random.binomial(1, 0.25, data.shape).astype(bool)\n",
    "data[masking_array] = np.NaN\n",
    "np.savetxt(\"../Data/class04/Wine_miss.csv\", data, delimiter= ',')"
   ]
  },
  {
   "cell_type": "code",
   "execution_count": null,
   "metadata": {},
   "outputs": [],
   "source": [
    "# 采用特定策略补全缺失\n",
    "from sklearn.impute import SimpleImputer\n",
    "\n",
    "# strategy：空值填充的策略，共四种选择（默认）mean、median、most_frequent、constant。\n",
    "mean_impute = SimpleImputer(strategy= 'mean')   # 均值填充\n",
    "median_impute = SimpleImputer(strategy= 'median')   # 中值填充\n",
    "data_prime_mean = mean_impute.fit_transform(data)\n",
    "data_prime_median = median_impute.fit_transform(data)\n",
    "np.savetxt(\"../Data/class04/Wine_mean_fill.csv\", data_prime_mean, delimiter= ',')\n",
    "np.savetxt(\"../Data/class04/Wine_median_fill.csv\", data_prime_median, delimiter= ',')"
   ]
  }
 ],
 "metadata": {
  "kernelspec": {
   "display_name": "deeplearn",
   "language": "python",
   "name": "python3"
  },
  "language_info": {
   "codemirror_mode": {
    "name": "ipython",
    "version": 3
   },
   "file_extension": ".py",
   "mimetype": "text/x-python",
   "name": "python",
   "nbconvert_exporter": "python",
   "pygments_lexer": "ipython3",
   "version": "3.10.13"
  }
 },
 "nbformat": 4,
 "nbformat_minor": 2
}
