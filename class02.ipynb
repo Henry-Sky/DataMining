{
 "cells": [
  {
   "cell_type": "markdown",
   "metadata": {},
   "source": [
    " 实验内容说明\n",
    "\n",
    "- 编制程序，计算一组数的百分位。\n",
    "- 编制程序，计算离散系数，并进行离中趋势分析。"
   ]
  },
  {
   "cell_type": "markdown",
   "metadata": {},
   "source": []
  },
  {
   "cell_type": "code",
   "execution_count": 1,
   "metadata": {},
   "outputs": [],
   "source": [
    "# 计算百分位\n",
    "def count_percentile(data, k, index = False):\n",
    "    assert(k > 0.0 and k <=1.0)\n",
    "    data = sorted(data)\n",
    "    n = len(data)\n",
    "    k_index = 1 + (n - 1) * k\n",
    "    res =  (data[int(k_index - 1)] \n",
    "            + (data[int(k_index - 1) + 1] - data[int(k_index - 1)]) * (k_index - int(k_index)))\n",
    "    if index:\n",
    "        return k_index, res\n",
    "    else:\n",
    "        return res\n",
    "\n",
    "   "
   ]
  },
  {
   "cell_type": "markdown",
   "metadata": {},
   "source": [
    "np.percentile(a, q, axis=None, out=None, overwrite_input=False, interpolation='linear', keepdims=False)\n",
    " \n",
    "- a : array，用来算分位数的对象，可以是多维的数组\n",
    "- q : 介于0-100的float，用来计算是几分位的参数，如四分之一位就是25，如要算两个位置的数就(25,75)\n",
    "- axis : 坐标轴的方向，一维的就不用考虑了，多维的就用这个调整计算的维度方向，取值范围0/1\n",
    "- out : 输出数据的存放对象，参数要与预期输出有相同的形状和缓冲区长度\n",
    "- overwrite_input : bool，默认False，为True时及计算直接在数组内存计算，计算后原数组无法保存\n",
    "- interpolation : 取值范围{'linear', 'lower', 'higher', 'midpoint', 'nearest'} 默认liner，比如取中位数，但是中位数有两个数字6和7，选不同参数来调整输出\n",
    "- keepdims : bool,默认False,为真时取中位数的那个轴将保留在结果中"
   ]
  },
  {
   "cell_type": "code",
   "execution_count": 2,
   "metadata": {},
   "outputs": [],
   "source": [
    "# 计算百分位(numpy)\n",
    "import numpy as np\n",
    "\n",
    "def np_percentitle(data, k, index = False):\n",
    "    assert(type(data) is np.ndarray)\n",
    "    assert(k > 0.0 and k <=1.0)\n",
    "    k *= 100\n",
    "    res = np.percentile(data, k)\n",
    "    if index:\n",
    "        k_index = 1 + (len(data) - 1) * k\n",
    "        return k_index, res\n",
    "    else:\n",
    "        return res\n"
   ]
  },
  {
   "cell_type": "code",
   "execution_count": 3,
   "metadata": {},
   "outputs": [
    {
     "name": "stdout",
     "output_type": "stream",
     "text": [
      "(2.0, 3.0)\n",
      "3.0\n"
     ]
    }
   ],
   "source": [
    "# 百分位测试\n",
    "data = [7,1,3,4,5]\n",
    "print(count_percentile(data, 0.25, 1))\n",
    "data = np.array(data)\n",
    "print(np_percentitle(data, 0.25))"
   ]
  },
  {
   "cell_type": "markdown",
   "metadata": {},
   "source": [
    "标准差 = 算术平方根(方差)  \n",
    "离散系数 = 标准差 / 均值\n"
   ]
  },
  {
   "cell_type": "code",
   "execution_count": 4,
   "metadata": {},
   "outputs": [],
   "source": [
    "import numpy\n",
    "import math\n",
    "# 离散系数计算\n",
    "\n",
    "# 均值\n",
    "# np.mean()\n",
    "\n",
    "# 方差\n",
    "def deviation(data, all = True):\n",
    "    avg_val = np.mean(data)\n",
    "    sum = 0\n",
    "    for i in data:\n",
    "        sum += (i - avg_val) * (i - avg_val)\n",
    "    # 总体方差\n",
    "    if all:\n",
    "        return (sum * 1.0)/(len(data) * 1.0)\n",
    "    # 样本方差\n",
    "    else:\n",
    "        return (sum * 1.0)/(len(data) - 1.0)\n",
    "    \n",
    "\n",
    "# 标准差\n",
    "# np.std()\n",
    "def standard_deviation(data):\n",
    "    return math.sqrt(deviation(data))\n",
    "    "
   ]
  },
  {
   "cell_type": "code",
   "execution_count": 5,
   "metadata": {},
   "outputs": [
    {
     "name": "stdout",
     "output_type": "stream",
     "text": [
      "145.57142857142858\n",
      "164.4912999374193\n",
      "164.4912999374193\n"
     ]
    }
   ],
   "source": [
    "# 离散系数测试\n",
    "data = [12,13,4,231,324,423,12]\n",
    "print(np.mean(data))\n",
    "print(standard_deviation(data))\n",
    "print(np.std(data))"
   ]
  },
  {
   "cell_type": "code",
   "execution_count": 8,
   "metadata": {},
   "outputs": [
    {
     "name": "stdout",
     "output_type": "stream",
     "text": [
      "[6, 11, 12, 14, 16, 36, 51, 56, 73, 93, 205, 216]\n",
      "12\n"
     ]
    },
    {
     "data": {
      "text/plain": [
       "39.75"
      ]
     },
     "execution_count": 8,
     "metadata": {},
     "output_type": "execute_result"
    }
   ],
   "source": [
    "data = [6, 11 , 205, 14, 16 ,216, 36, 51, 12 ,56 ,73, 93]\n",
    "data = sorted(data)\n",
    "print(data)\n",
    "print(len(data))\n",
    "np.mean([16,36,51,56])"
   ]
  }
 ],
 "metadata": {
  "kernelspec": {
   "display_name": "bigdata",
   "language": "python",
   "name": "python3"
  },
  "language_info": {
   "codemirror_mode": {
    "name": "ipython",
    "version": 3
   },
   "file_extension": ".py",
   "mimetype": "text/x-python",
   "name": "python",
   "nbconvert_exporter": "python",
   "pygments_lexer": "ipython3",
   "version": "3.8.18"
  }
 },
 "nbformat": 4,
 "nbformat_minor": 2
}
