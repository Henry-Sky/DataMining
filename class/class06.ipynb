{
 "cells": [
  {
   "cell_type": "markdown",
   "metadata": {},
   "source": [
    "编制程序实现基于划分的聚类，分别用K-Means聚类算法、小批量K均值聚类算法(MiniBatchKMeans)进行聚类，并根据聚类结果进行分析。"
   ]
  },
  {
   "cell_type": "markdown",
   "metadata": {},
   "source": [
    "**聚类**  \n",
    "聚类(Clustering)是按照某个特定标准(如距离)把一个数据集分割成不同的类或簇，使得同一个簇内的数据对象的相似性尽可能大，  \n",
    "同时不在同一个簇中的数据对象的差异性也尽可能地大。  \n",
    "**区别**\n",
    "- 聚类(Clustering)：是指把相似的数据划分到一起，具体划分的时候并不关心这一类的标签，  \n",
    "目标就是把相似的数据聚合到一起，聚类是一种无监督学习(Unsupervised Learning)方法。\n",
    "- 分类(Classification)：是把不同的数据划分开，其过程是通过训练数据集获得一个分类器，  \n",
    "再通过分类器去预测未知数据，分类是一种监督学习(Supervised Learning)方法"
   ]
  },
  {
   "cell_type": "markdown",
   "metadata": {},
   "source": [
    "**划分式聚类方法**  \n",
    "划分式聚类方法需要事先指定簇类的数目或者聚类中心，通过反复迭代，直至最后达到\"簇内的点足够近，簇间的点足够远\"的目标。  \n",
    "经典的划分式聚类方法有k-means及其变体k-means++, bi-kmeans, kernel, k-means等"
   ]
  },
  {
   "cell_type": "markdown",
   "metadata": {},
   "source": [
    "### 一. 对亚洲男足20强国家队进行聚类"
   ]
  },
  {
   "cell_type": "code",
   "execution_count": 90,
   "metadata": {},
   "outputs": [
    {
     "name": "stdout",
     "output_type": "stream",
     "text": [
      "        国家  2019年国际排名  2018世界杯  2015亚洲杯  聚类\n",
      "0       中国         73       40        7   2\n",
      "1       日本         60       15        5   0\n",
      "2       韩国         61       19        2   0\n",
      "3       伊朗         34       18        6   0\n",
      "4       沙特         67       26       10   0\n",
      "5      伊拉克         91       40        4   2\n",
      "6      卡塔尔        101       40       13   1\n",
      "7      阿联酋         81       40        6   2\n",
      "8   乌兹别克斯坦         88       40        8   2\n",
      "9       泰国        122       40       17   1\n",
      "10      越南        102       50       17   1\n",
      "11      阿曼         87       50       12   1\n",
      "12      巴林        116       50       11   1\n",
      "13      朝鲜        110       50       14   1\n",
      "14      印尼        164       50       17   1\n",
      "15      澳洲         40       30        1   0\n",
      "16     叙利亚         76       40       17   1\n",
      "17      约旦        118       50        9   2\n",
      "18     科威特        100       50       15   1\n",
      "19    巴勒斯坦         96       50       16   1\n"
     ]
    }
   ],
   "source": [
    "# 加载数据\n",
    "import pandas as pd\n",
    "from sklearn.cluster import KMeans, MiniBatchKMeans\n",
    "from sklearn.preprocessing import MinMaxScaler\n",
    "\n",
    "data = pd.read_csv(\"../data/class06/football_data.csv\")\n",
    "x_train = data[[\"2019年国际排名\", \"2018世界杯\", \"2015亚洲杯\"]]\n",
    "# 归一化\n",
    "x_train = MinMaxScaler().fit_transform(x_train)\n",
    "# K-means算法, 指定3个类别\n",
    "model = KMeans(n_clusters=3, n_init=\"auto\")\n",
    "model.fit(x_train)\n",
    "y_predict = model.predict(x_train)\n",
    "# pd.concat 连接多个数据表\n",
    "result = pd.concat((data,pd.DataFrame({\"聚类\":y_predict})),axis=1)\n",
    "print(result)\n"
   ]
  },
  {
   "cell_type": "markdown",
   "metadata": {},
   "source": [
    "### 二.采用小批量K均值聚类算法对鸢尾花数据集进行聚类"
   ]
  },
  {
   "cell_type": "code",
   "execution_count": 91,
   "metadata": {},
   "outputs": [
    {
     "data": {
      "image/png": "[encoded data removed]",
      "text/plain": [
       "<Figure size 640x480 with 1 Axes>"
      ]
     },
     "metadata": {},
     "output_type": "display_data"
    }
   ],
   "source": [
    "from sklearn.datasets import load_iris\n",
    "import matplotlib.pyplot as plt\n",
    "import numpy as np\n",
    "\n",
    "# 数据加载\n",
    "iris = load_iris()\n",
    "x_data = iris.data\n",
    "y_label = iris.target\n",
    "# 数据预处理\n",
    "x_data = MinMaxScaler().fit_transform(x_data)\n",
    "\n",
    "model_clf = MiniBatchKMeans(n_clusters= 3, batch_size= 15, init=\"random\", n_init=3)\n",
    "# 模型拟合\n",
    "model_clf.fit(x_data)\n",
    "centers = model_clf.cluster_centers_\n",
    "pre_clu = model_clf.labels_\n",
    "\n",
    "# 对不同的簇进行标记\n",
    "marker_dict = {0:'^', 1:'s', 2:'D'}\n",
    "color_dict = {0:'r', 1:'g', 2:'b'}\n",
    "mark_val = [marker_dict[i] for i in pre_clu]\n",
    "color_val = [color_dict[i] for i in pre_clu]\n",
    "\n",
    "for x, y, mark, color in zip(x_data[:,1],x_data[:,2], mark_val, color_val):\n",
    "    plt.scatter(x, y, marker=mark,c=color)\n",
    "plt.scatter(centers[:,1],centers[:,2],marker='*',s=200,c='y')\n",
    "plt.show()"
   ]
  }
 ],
 "metadata": {
  "kernelspec": {
   "display_name": "deeplearn",
   "language": "python",
   "name": "python3"
  },
  "language_info": {
   "codemirror_mode": {
    "name": "ipython",
    "version": 3
   },
   "file_extension": ".py",
   "mimetype": "text/x-python",
   "name": "python",
   "nbconvert_exporter": "python",
   "pygments_lexer": "ipython3",
   "version": "3.10.13"
  }
 },
 "nbformat": 4,
 "nbformat_minor": 2
}
