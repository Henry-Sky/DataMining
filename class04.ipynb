{
 "cells": [
  {
   "cell_type": "markdown",
   "metadata": {},
   "source": [
    "数据缺失填充  "
   ]
  },
  {
   "cell_type": "code",
   "execution_count": 2,
   "metadata": {},
   "outputs": [],
   "source": [
    "import numpy as np\n",
    "from sklearn.impute import SimpleImputer"
   ]
  },
  {
   "cell_type": "code",
   "execution_count": 3,
   "metadata": {},
   "outputs": [
    {
     "name": "stdout",
     "output_type": "stream",
     "text": [
      "(178, 13)\n"
     ]
    }
   ],
   "source": [
    "filename = \"./data/class04/Wine.csv\"\n",
    "# \"rb\" 以二进制文件方式读取数据\n",
    "data = np.loadtxt(open(filename, \"rb\"), delimiter= \",\", skiprows= 0)\n",
    "print(data.shape)\n",
    "# 将data的第一,二维数据转float\n",
    "data = data[:,:].astype(float)\n",
    "# binomial n:一次实验样本数 p:事件概率 size:返回形式\n",
    "masking_array = np.random.binomial(1, 0.25, data.shape).astype(bool)\n",
    "data[masking_array] = np.NaN\n",
    "np.savetxt(\"./data/class04/Wine_miss.csv\", data, delimiter= ',')\n",
    "\n",
    "impute = SimpleImputer(strategy= 'median')\n",
    "data_prime = impute.fit_transform(data)\n",
    "np.savetxt(\"./data/class04/Wine_fill.csv\", data_prime, delimiter= ',')"
   ]
  }
 ],
 "metadata": {
  "kernelspec": {
   "display_name": "deeplearn",
   "language": "python",
   "name": "python3"
  },
  "language_info": {
   "codemirror_mode": {
    "name": "ipython",
    "version": 3
   },
   "file_extension": ".py",
   "mimetype": "text/x-python",
   "name": "python",
   "nbconvert_exporter": "python",
   "pygments_lexer": "ipython3",
   "version": "3.10.13"
  }
 },
 "nbformat": 4,
 "nbformat_minor": 2
}
