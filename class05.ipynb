{
 "cells": [
  {
   "cell_type": "markdown",
   "metadata": {},
   "source": [
    "编制程序实现等深分箱平均数平滑、中位数平滑和箱边界平滑，并根据结果进行对比"
   ]
  },
  {
   "cell_type": "code",
   "execution_count": 77,
   "metadata": {},
   "outputs": [],
   "source": [
    "import numpy as np\n",
    "data=np.array([80,90,100,150,300,250,1600,230,200,210,170,400,-800,500,530,550])\n",
    "np.savetxt(\"./data/class05/origin.csv\", data, fmt=\"%d\", newline=' ')"
   ]
  },
  {
   "cell_type": "code",
   "execution_count": 78,
   "metadata": {},
   "outputs": [],
   "source": [
    "import copy\n",
    "\n",
    "# 等深分箱\n",
    "def high_equal_boxed(data, H):\n",
    "    sorted_data = sorted(copy.deepcopy(data))\n",
    "    index = 0\n",
    "    Box = []\n",
    "    while index < len(sorted_data):\n",
    "        Box.append(sorted_data[index:index + H])\n",
    "        index += H\n",
    "    return Box\n",
    "\n",
    "# 均值平滑\n",
    "def mean_smooth(data):\n",
    "    data = copy.deepcopy(data)\n",
    "    smooth = []\n",
    "    print(data)\n",
    "    for array in data:\n",
    "        array = np.full(np.array(array).shape, np.mean(array))\n",
    "        smooth.append(array)\n",
    "    return smooth\n",
    "    \n",
    "\n"
   ]
  },
  {
   "cell_type": "code",
   "execution_count": 79,
   "metadata": {},
   "outputs": [
    {
     "name": "stdout",
     "output_type": "stream",
     "text": [
      "[[-800, 80, 90, 100], [150, 170, 200, 210], [230, 250, 300, 400], [500, 530, 550, 1600]]\n",
      "[array([-132.5, -132.5, -132.5, -132.5]), array([182.5, 182.5, 182.5, 182.5]), array([295., 295., 295., 295.]), array([795., 795., 795., 795.])]\n"
     ]
    }
   ],
   "source": [
    "import numpy as np\n",
    "# 读取原始数据\n",
    "origin_data = np.array(np.loadtxt(\"./data/class05/origin.csv\").astype(int))\n",
    "# 对数据排序\n",
    "sort_data = sorted(origin_data)\n",
    "high_data = high_equal_boxed(origin_data, 4)\n",
    "mean_data = mean_smooth(high_data)\n",
    "print(mean_data)\n",
    "\n"
   ]
  }
 ],
 "metadata": {
  "kernelspec": {
   "display_name": "deeplearn",
   "language": "python",
   "name": "python3"
  },
  "language_info": {
   "codemirror_mode": {
    "name": "ipython",
    "version": 3
   },
   "file_extension": ".py",
   "mimetype": "text/x-python",
   "name": "python",
   "nbconvert_exporter": "python",
   "pygments_lexer": "ipython3",
   "version": "3.10.13"
  }
 },
 "nbformat": 4,
 "nbformat_minor": 2
}
