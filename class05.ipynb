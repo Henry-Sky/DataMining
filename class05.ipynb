{
 "cells": [
  {
   "cell_type": "markdown",
   "metadata": {},
   "source": [
    "编制程序实现等深分箱平均数平滑、中位数平滑和箱边界平滑，并根据结果进行对比"
   ]
  },
  {
   "cell_type": "code",
   "execution_count": 21,
   "metadata": {},
   "outputs": [],
   "source": [
    "# 保存数据\n",
    "# import numpy as np\n",
    "# data=np.array([80,90,100,150,300,250,1600,230,200,210,170,400,-800,500,530,550])\n",
    "# np.savetxt(\"./data/class05/origin.csv\", data, fmt=\"%d\", newline=' ')"
   ]
  },
  {
   "cell_type": "code",
   "execution_count": 22,
   "metadata": {},
   "outputs": [],
   "source": [
    "import numpy as np\n",
    "\n",
    "# 等深分箱\n",
    "def deep_equal_boxed(data, H):\n",
    "    Box = []\n",
    "    Box_index = []\n",
    "    sorted_data = sorted(data)\n",
    "    sorted_data_index = list(np.argsort(data))\n",
    "    index = 0\n",
    "    while index < len(data):\n",
    "        Box.append(sorted_data[index:index+H])\n",
    "        Box_index.append(sorted_data_index[index:index+H])\n",
    "        index += H\n",
    "    return Box, Box_index\n",
    "\n",
    "# 均值平滑\n",
    "def mean_smooth(data):\n",
    "    assert(len(np.array(data).shape) == 2)\n",
    "    smooth_data = []\n",
    "    for array in data:\n",
    "        array = list(np.full(np.array(array).shape, np.mean(array)))\n",
    "        smooth_data.append(array)\n",
    "    return smooth_data\n",
    "\n",
    "# 中值平滑\n",
    "def median_smooth(data):\n",
    "    assert(len(np.array(data).shape) == 2)\n",
    "    median_data = []\n",
    "    for array in data:\n",
    "        array = list(np.full(np.array(array).shape, np.median(array)))\n",
    "        median_data.append(array)\n",
    "    return median_data\n",
    "\n",
    "#\n",
    "    \n",
    "\n"
   ]
  },
  {
   "cell_type": "code",
   "execution_count": 23,
   "metadata": {},
   "outputs": [
    {
     "name": "stdout",
     "output_type": "stream",
     "text": [
      "[[-800, 80, 90, 100], [150, 170, 200, 210], [230, 250, 300, 400], [500, 530, 550, 1600]]\n",
      "[[-132.5, -132.5, -132.5, -132.5], [182.5, 182.5, 182.5, 182.5], [295.0, 295.0, 295.0, 295.0], [795.0, 795.0, 795.0, 795.0]]\n",
      "[[85.0, 85.0, 85.0, 85.0], [185.0, 185.0, 185.0, 185.0], [275.0, 275.0, 275.0, 275.0], [540.0, 540.0, 540.0, 540.0]]\n",
      "[[12, 0, 1, 2], [3, 10, 8, 9], [7, 5, 4, 11], [13, 14, 15, 6]]\n"
     ]
    }
   ],
   "source": [
    "import numpy as np\n",
    "# 读取原始数据\n",
    "origin_data = np.array(np.loadtxt(\"./data/class05/origin.csv\").astype(int))\n",
    "# 对数据排序\n",
    "\n",
    "data, index = deep_equal_boxed(origin_data, 4)\n",
    "print(data)\n",
    "print(mean_smooth(data))\n",
    "print(median_smooth(data))\n",
    "print(index)\n",
    "\n",
    "\n"
   ]
  },
  {
   "cell_type": "code",
   "execution_count": 24,
   "metadata": {},
   "outputs": [
    {
     "name": "stdout",
     "output_type": "stream",
     "text": [
      "[6 0 5 1 3 2 4]\n"
     ]
    }
   ],
   "source": [
    "import numpy as np\n",
    "x = [1,3,4,3,6,2,0]\n",
    "print(np.argsort(x))"
   ]
  }
 ],
 "metadata": {
  "kernelspec": {
   "display_name": "deeplearn",
   "language": "python",
   "name": "python3"
  },
  "language_info": {
   "codemirror_mode": {
    "name": "ipython",
    "version": 3
   },
   "file_extension": ".py",
   "mimetype": "text/x-python",
   "name": "python",
   "nbconvert_exporter": "python",
   "pygments_lexer": "ipython3",
   "version": "3.10.13"
  }
 },
 "nbformat": 4,
 "nbformat_minor": 2
}
